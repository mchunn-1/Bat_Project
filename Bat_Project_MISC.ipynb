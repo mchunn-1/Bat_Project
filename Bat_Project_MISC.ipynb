{
 "cells": [
  {
   "cell_type": "markdown",
   "id": "2945acb1",
   "metadata": {},
   "source": [
    "## Takes in output file from KAAS and writes file that includes only the trascripts assigned to a KEGG ID"
   ]
  },
  {
   "cell_type": "code",
   "execution_count": 1,
   "id": "b01ebf6b",
   "metadata": {},
   "outputs": [],
   "source": [
    "with open ('mobl_KO_only.txt', 'w') as f:\n",
    "    with open ('mobl_ko.txt', 'r') as file:\n",
    "        for line in file:\n",
    "            if \"K\" in line:\n",
    "                anno = line\n",
    "                f.write(line)"
   ]
  },
  {
   "cell_type": "markdown",
   "id": "3b48b8dc",
   "metadata": {},
   "source": [
    "## Counting number of each ORF type from Transdcoder "
   ]
  },
  {
   "cell_type": "code",
   "execution_count": 5,
   "id": "18c5b657",
   "metadata": {},
   "outputs": [
    {
     "name": "stdout",
     "output_type": "stream",
     "text": [
      "Complete ORF Type: 34558\n",
      "Internal ORF Type: 10500\n",
      "3 prime ORF Type: 5996\n",
      "5 prime ORF Type: 17070\n"
     ]
    }
   ],
   "source": [
    "icount = 0\n",
    "tcount = 0\n",
    "fcount = 0\n",
    "ccount = 0\n",
    "with open ('mobl.transdecoder_CDS.fasta', 'r') as file:\n",
    "    for line in file:\n",
    "        if \"internal\" in line:\n",
    "            icount += 1\n",
    "        elif '3prime_partial' in line:\n",
    "            tcount += 1\n",
    "        elif '5prime_partial' in line:\n",
    "            fcount += 1\n",
    "        elif 'complete' in line:\n",
    "            ccount += 1\n",
    "print(\"Complete ORF Type: \" + str(ccount))\n",
    "print(\"Internal ORF Type: \" + str(icount))\n",
    "print(\"3 prime ORF Type: \" + str(tcount))\n",
    "print(\"5 prime ORF Type: \" + str(fcount))"
   ]
  },
  {
   "cell_type": "markdown",
   "id": "6bbd6929",
   "metadata": {},
   "source": [
    "## Busco graph "
   ]
  },
  {
   "cell_type": "code",
   "execution_count": 7,
   "id": "9f33e7bc",
   "metadata": {},
   "outputs": [
    {
     "data": {
      "text/html": [
       "<div>\n",
       "<style scoped>\n",
       "    .dataframe tbody tr th:only-of-type {\n",
       "        vertical-align: middle;\n",
       "    }\n",
       "\n",
       "    .dataframe tbody tr th {\n",
       "        vertical-align: top;\n",
       "    }\n",
       "\n",
       "    .dataframe thead th {\n",
       "        text-align: right;\n",
       "    }\n",
       "</style>\n",
       "<table border=\"1\" class=\"dataframe\">\n",
       "  <thead>\n",
       "    <tr style=\"text-align: right;\">\n",
       "      <th></th>\n",
       "      <th>Complete and single-copy</th>\n",
       "      <th>Complete and duplicated</th>\n",
       "      <th>Fragmented</th>\n",
       "      <th>Missing</th>\n",
       "    </tr>\n",
       "    <tr>\n",
       "      <th>Species</th>\n",
       "      <th></th>\n",
       "      <th></th>\n",
       "      <th></th>\n",
       "      <th></th>\n",
       "    </tr>\n",
       "  </thead>\n",
       "  <tbody>\n",
       "    <tr>\n",
       "      <th>H.thomasi</th>\n",
       "      <td>35.6</td>\n",
       "      <td>62.4</td>\n",
       "      <td>2.0</td>\n",
       "      <td>0.0</td>\n",
       "    </tr>\n",
       "    <tr>\n",
       "      <th>A. geoffroyi</th>\n",
       "      <td>44.6</td>\n",
       "      <td>50.8</td>\n",
       "      <td>4.3</td>\n",
       "      <td>0.3</td>\n",
       "    </tr>\n",
       "    <tr>\n",
       "      <th>G. soricina</th>\n",
       "      <td>53.8</td>\n",
       "      <td>42.6</td>\n",
       "      <td>3.6</td>\n",
       "      <td>0.0</td>\n",
       "    </tr>\n",
       "    <tr>\n",
       "      <th>C. brevicauda</th>\n",
       "      <td>46.9</td>\n",
       "      <td>49.5</td>\n",
       "      <td>3.3</td>\n",
       "      <td>0.3</td>\n",
       "    </tr>\n",
       "    <tr>\n",
       "      <th>C. villosum</th>\n",
       "      <td>34.7</td>\n",
       "      <td>64.3</td>\n",
       "      <td>1.0</td>\n",
       "      <td>0.0</td>\n",
       "    </tr>\n",
       "    <tr>\n",
       "      <th>S. ludovici</th>\n",
       "      <td>38.3</td>\n",
       "      <td>59.1</td>\n",
       "      <td>2.6</td>\n",
       "      <td>0.0</td>\n",
       "    </tr>\n",
       "    <tr>\n",
       "      <th>A. jamaicensis</th>\n",
       "      <td>47.2</td>\n",
       "      <td>48.8</td>\n",
       "      <td>3.6</td>\n",
       "      <td>0.4</td>\n",
       "    </tr>\n",
       "    <tr>\n",
       "      <th>D. rotundus</th>\n",
       "      <td>41.6</td>\n",
       "      <td>53.8</td>\n",
       "      <td>4.6</td>\n",
       "      <td>0.0</td>\n",
       "    </tr>\n",
       "    <tr>\n",
       "      <th>M. blainvillei</th>\n",
       "      <td>36.0</td>\n",
       "      <td>63.0</td>\n",
       "      <td>1.0</td>\n",
       "      <td>0.0</td>\n",
       "    </tr>\n",
       "    <tr>\n",
       "      <th>M. waterhousi</th>\n",
       "      <td>47.2</td>\n",
       "      <td>48.8</td>\n",
       "      <td>4.0</td>\n",
       "      <td>0.0</td>\n",
       "    </tr>\n",
       "    <tr>\n",
       "      <th>P. pusillus</th>\n",
       "      <td>53.7</td>\n",
       "      <td>34.1</td>\n",
       "      <td>9.4</td>\n",
       "      <td>2.8</td>\n",
       "    </tr>\n",
       "    <tr>\n",
       "      <th>N. leporinus</th>\n",
       "      <td>43.9</td>\n",
       "      <td>53.5</td>\n",
       "      <td>2.6</td>\n",
       "      <td>0.0</td>\n",
       "    </tr>\n",
       "  </tbody>\n",
       "</table>\n",
       "</div>"
      ],
      "text/plain": [
       "                Complete and single-copy  Complete and duplicated   \\\n",
       "Species                                                              \n",
       "H.thomasi                           35.6                      62.4   \n",
       "A. geoffroyi                        44.6                      50.8   \n",
       "G. soricina                         53.8                      42.6   \n",
       "C. brevicauda                       46.9                      49.5   \n",
       "C. villosum                         34.7                      64.3   \n",
       "S. ludovici                         38.3                      59.1   \n",
       "A. jamaicensis                      47.2                      48.8   \n",
       "D. rotundus                         41.6                      53.8   \n",
       "M. blainvillei                      36.0                      63.0   \n",
       "M. waterhousi                       47.2                      48.8   \n",
       "P. pusillus                         53.7                      34.1   \n",
       "N. leporinus                        43.9                      53.5   \n",
       "\n",
       "                Fragmented   Missing   \n",
       "Species                                \n",
       "H.thomasi               2.0       0.0  \n",
       "A. geoffroyi            4.3       0.3  \n",
       "G. soricina             3.6       0.0  \n",
       "C. brevicauda           3.3       0.3  \n",
       "C. villosum             1.0       0.0  \n",
       "S. ludovici             2.6       0.0  \n",
       "A. jamaicensis          3.6       0.4  \n",
       "D. rotundus             4.6       0.0  \n",
       "M. blainvillei          1.0       0.0  \n",
       "M. waterhousi           4.0       0.0  \n",
       "P. pusillus             9.4       2.8  \n",
       "N. leporinus            2.6       0.0  "
      ]
     },
     "execution_count": 7,
     "metadata": {},
     "output_type": "execute_result"
    }
   ],
   "source": [
    "import pandas as pd\n",
    "import matplotlib.pyplot as plt\n",
    "df = pd.read_excel('busco_stats.xlsx').set_index(\"Species\")\n",
    "df"
   ]
  },
  {
   "cell_type": "code",
   "execution_count": 18,
   "id": "e4a63c92",
   "metadata": {},
   "outputs": [
    {
     "data": {
      "text/plain": [
       "<matplotlib.legend.Legend at 0x7fd4a4e4d8e0>"
      ]
     },
     "execution_count": 18,
     "metadata": {},
     "output_type": "execute_result"
    },
    {
     "data": {
      "image/png": "[encoded data removed]",
      "text/plain": [
       "<Figure size 432x288 with 1 Axes>"
      ]
     },
     "metadata": {
      "needs_background": "light"
     },
     "output_type": "display_data"
    }
   ],
   "source": [
    "plot = df.plot.barh(stacked=True, cmap=\"ocean\")\n",
    "plot.set_title(\"Assembly Completeness\")\n",
    "plot.set_xlabel(\"% \")\n",
    "plot.legend(bbox_to_anchor=(1.0, 1.0))"
   ]
  },
  {
   "cell_type": "markdown",
   "id": "4e79fee8",
   "metadata": {},
   "source": [
    "## Transdecoder Graph "
   ]
  },
  {
   "cell_type": "code",
   "execution_count": 4,
   "id": "4432b58e",
   "metadata": {},
   "outputs": [
    {
     "data": {
      "text/html": [
       "<div>\n",
       "<style scoped>\n",
       "    .dataframe tbody tr th:only-of-type {\n",
       "        vertical-align: middle;\n",
       "    }\n",
       "\n",
       "    .dataframe tbody tr th {\n",
       "        vertical-align: top;\n",
       "    }\n",
       "\n",
       "    .dataframe thead th {\n",
       "        text-align: right;\n",
       "    }\n",
       "</style>\n",
       "<table border=\"1\" class=\"dataframe\">\n",
       "  <thead>\n",
       "    <tr style=\"text-align: right;\">\n",
       "      <th></th>\n",
       "      <th>Complete</th>\n",
       "      <th>Internal</th>\n",
       "      <th>3 Prime</th>\n",
       "      <th>5 Prime</th>\n",
       "    </tr>\n",
       "    <tr>\n",
       "      <th>Species</th>\n",
       "      <th></th>\n",
       "      <th></th>\n",
       "      <th></th>\n",
       "      <th></th>\n",
       "    </tr>\n",
       "  </thead>\n",
       "  <tbody>\n",
       "    <tr>\n",
       "      <th>H.thomasi</th>\n",
       "      <td>30887</td>\n",
       "      <td>9692</td>\n",
       "      <td>5491</td>\n",
       "      <td>14999</td>\n",
       "    </tr>\n",
       "    <tr>\n",
       "      <th>A. geoffroyi</th>\n",
       "      <td>23548</td>\n",
       "      <td>10062</td>\n",
       "      <td>4446</td>\n",
       "      <td>12859</td>\n",
       "    </tr>\n",
       "    <tr>\n",
       "      <th>G. soricina</th>\n",
       "      <td>22455</td>\n",
       "      <td>10089</td>\n",
       "      <td>4498</td>\n",
       "      <td>12650</td>\n",
       "    </tr>\n",
       "    <tr>\n",
       "      <th>C. brevicauda</th>\n",
       "      <td>26470</td>\n",
       "      <td>10508</td>\n",
       "      <td>5142</td>\n",
       "      <td>13929</td>\n",
       "    </tr>\n",
       "    <tr>\n",
       "      <th>C. villosum</th>\n",
       "      <td>35183</td>\n",
       "      <td>9618</td>\n",
       "      <td>5780</td>\n",
       "      <td>16616</td>\n",
       "    </tr>\n",
       "    <tr>\n",
       "      <th>S. ludovici</th>\n",
       "      <td>28862</td>\n",
       "      <td>9954</td>\n",
       "      <td>5497</td>\n",
       "      <td>13689</td>\n",
       "    </tr>\n",
       "    <tr>\n",
       "      <th>A. jamaicensis</th>\n",
       "      <td>26951</td>\n",
       "      <td>10813</td>\n",
       "      <td>4771</td>\n",
       "      <td>15687</td>\n",
       "    </tr>\n",
       "    <tr>\n",
       "      <th>D. rotundus</th>\n",
       "      <td>27238</td>\n",
       "      <td>11661</td>\n",
       "      <td>4724</td>\n",
       "      <td>17027</td>\n",
       "    </tr>\n",
       "    <tr>\n",
       "      <th>M. blainvillei</th>\n",
       "      <td>34558</td>\n",
       "      <td>10500</td>\n",
       "      <td>5996</td>\n",
       "      <td>17070</td>\n",
       "    </tr>\n",
       "    <tr>\n",
       "      <th>M. waterhousi</th>\n",
       "      <td>22370</td>\n",
       "      <td>9570</td>\n",
       "      <td>4675</td>\n",
       "      <td>12181</td>\n",
       "    </tr>\n",
       "    <tr>\n",
       "      <th>P. pusillus</th>\n",
       "      <td>17601</td>\n",
       "      <td>8952</td>\n",
       "      <td>3964</td>\n",
       "      <td>10411</td>\n",
       "    </tr>\n",
       "    <tr>\n",
       "      <th>N. leporinus</th>\n",
       "      <td>27901</td>\n",
       "      <td>9260</td>\n",
       "      <td>4820</td>\n",
       "      <td>14555</td>\n",
       "    </tr>\n",
       "  </tbody>\n",
       "</table>\n",
       "</div>"
      ],
      "text/plain": [
       "                Complete  Internal  3 Prime  5 Prime \n",
       "Species                                              \n",
       "H.thomasi          30887      9692     5491     14999\n",
       "A. geoffroyi       23548     10062     4446     12859\n",
       "G. soricina        22455     10089     4498     12650\n",
       "C. brevicauda      26470     10508     5142     13929\n",
       "C. villosum        35183      9618     5780     16616\n",
       "S. ludovici        28862      9954     5497     13689\n",
       "A. jamaicensis     26951     10813     4771     15687\n",
       "D. rotundus        27238     11661     4724     17027\n",
       "M. blainvillei     34558     10500     5996     17070\n",
       "M. waterhousi      22370      9570     4675     12181\n",
       "P. pusillus        17601      8952     3964     10411\n",
       "N. leporinus       27901      9260     4820     14555"
      ]
     },
     "execution_count": 4,
     "metadata": {},
     "output_type": "execute_result"
    }
   ],
   "source": [
    "trans = pd.read_excel('transdecoder_done_stats.xlsx').set_index(\"Species\")\n",
    "trans"
   ]
  },
  {
   "cell_type": "code",
   "execution_count": 5,
   "id": "fb9b208a",
   "metadata": {},
   "outputs": [
    {
     "data": {
      "text/plain": [
       "<matplotlib.legend.Legend at 0x7faa6942ff10>"
      ]
     },
     "execution_count": 5,
     "metadata": {},
     "output_type": "execute_result"
    },
    {
     "data": {
      "image/png": "[encoded data removed]",
      "text/plain": [
       "<Figure size 432x288 with 1 Axes>"
      ]
     },
     "metadata": {
      "needs_background": "light"
     },
     "output_type": "display_data"
    }
   ],
   "source": [
    "plot2 = trans.plot.bar(stacked=True, cmap = \"Pastel1\")\n",
    "plot2.set_title(\"Identified CDS (TransDecoder)\")\n",
    "plot2.set_ylabel(\"Number of Sequences\")\n",
    "plot2.legend(bbox_to_anchor=(1.0, 1.0), title='ORF')"
   ]
  },
  {
   "cell_type": "code",
   "execution_count": 8,
   "id": "3ae99d19",
   "metadata": {},
   "outputs": [],
   "source": []
  },
  {
   "cell_type": "code",
   "execution_count": null,
   "id": "59df33f3",
   "metadata": {},
   "outputs": [],
   "source": []
  }
 ],
 "metadata": {
  "kernelspec": {
   "display_name": "Python 3 (ipykernel)",
   "language": "python",
   "name": "python3"
  },
  "language_info": {
   "codemirror_mode": {
    "name": "ipython",
    "version": 3
   },
   "file_extension": ".py",
   "mimetype": "text/x-python",
   "name": "python",
   "nbconvert_exporter": "python",
   "pygments_lexer": "ipython3",
   "version": "3.9.7"
  }
 },
 "nbformat": 4,
 "nbformat_minor": 5
}
